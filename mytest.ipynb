{
  "metadata": {
    "kernelspec": {
      "name": "python",
      "display_name": "Python (Pyodide)",
      "language": "python"
    },
    "language_info": {
      "codemirror_mode": {
        "name": "python",
        "version": 3
      },
      "file_extension": ".py",
      "mimetype": "text/x-python",
      "name": "python",
      "nbconvert_exporter": "python",
      "pygments_lexer": "ipython3",
      "version": "3.8"
    }
  },
  "nbformat_minor": 5,
  "nbformat": 4,
  "cells": [
    {
      "id": "43465e06-8ffb-44b4-82d7-06a435cd1800",
      "cell_type": "code",
      "source": "print(\"Hello kitty!\")\n",
      "metadata": {
        "trusted": true
      },
      "outputs": [
        {
          "name": "stdout",
          "output_type": "stream",
          "text": "Hello kitty!\n"
        }
      ],
      "execution_count": 1
    },
    {
      "id": "5bf37aa9-51d1-4a80-8306-750ff13711a9",
      "cell_type": "markdown",
      "source": "# Big 1\n## Big 1 \n### BIg 3\n** bold type **\n\n",
      "metadata": {}
    },
    {
      "id": "a22bae15-d5c6-4d78-8a28-bf31d63df67f",
      "cell_type": "code",
      "source": "",
      "metadata": {
        "trusted": true
      },
      "outputs": [],
      "execution_count": null
    }
  ]
}